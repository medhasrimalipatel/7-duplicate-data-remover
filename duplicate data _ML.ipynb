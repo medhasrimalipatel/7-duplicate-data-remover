{
 "cells": [
  {
   "cell_type": "code",
   "execution_count": null,
   "id": "f0a7764d",
   "metadata": {},
   "outputs": [],
   "source": []
  },
  {
   "cell_type": "code",
   "execution_count": 2,
   "id": "68f9afd5",
   "metadata": {},
   "outputs": [
    {
     "name": "stdout",
     "output_type": "stream",
     "text": [
      "Original dataset shape: (149, 5)\n",
      "Deduplicated dataset shape: (91, 6)\n",
      "Deduplicated dataset saved to 'deduplicated_dataset.csv'.\n"
     ]
    }
   ],
   "source": [
    "import pandas as pd\n",
    "from sklearn.feature_extraction.text import TfidfVectorizer\n",
    "from sklearn.metrics.pairwise import cosine_similarity\n",
    "\n",
    "# Load the dataset\n",
    "file_path = r'C:\\Users\\ssp1_\\Downloads\\Input.csv'\n",
    "data = pd.read_csv(file_path)\n",
    "\n",
    "# Display initial dataset shape\n",
    "print(f\"Original dataset shape: {data.shape}\")\n",
    "\n",
    "# Preprocessing (combine columns and normalize text)\n",
    "def preprocess(row):\n",
    "    combined = f\"{row['ln']} {row['dob']} {row['gn']} {row['fn']}\"\n",
    "    return \" \".join(combined.lower().strip().split())\n",
    "\n",
    "data['Processed_Text'] = data.apply(preprocess, axis=1)\n",
    "\n",
    "# Feature extraction using TF-IDF\n",
    "vectorizer = TfidfVectorizer()\n",
    "tfidf_matrix = vectorizer.fit_transform(data['Processed_Text'])\n",
    "\n",
    "# Compute cosine similarity between rows\n",
    "similarity_matrix = cosine_similarity(tfidf_matrix)\n",
    "\n",
    "# Set a similarity threshold for duplicates (e.g., 0.9)\n",
    "threshold = 0.9\n",
    "\n",
    "def find_duplicates(similarity_matrix, threshold):\n",
    "    duplicates = set()\n",
    "    for i in range(similarity_matrix.shape[0]):\n",
    "        for j in range(i + 1, similarity_matrix.shape[1]):\n",
    "            if similarity_matrix[i, j] > threshold:\n",
    "                duplicates.add(j)\n",
    "    return list(duplicates)\n",
    "\n",
    "# Find duplicate indices\n",
    "duplicate_indices = find_duplicates(similarity_matrix, threshold)\n",
    "\n",
    "# Remove duplicates\n",
    "data_deduplicated = data.drop(index=duplicate_indices)\n",
    "\n",
    "# Display results\n",
    "print(f\"Deduplicated dataset shape: {data_deduplicated.shape}\")\n",
    "\n",
    "# Save deduplicated dataset to a new file\n",
    "data_deduplicated.to_csv(r'C:\\Users\\ssp1_\\Downloads\\deduplicated_dataset.csv', index=False)\n",
    "print(\"Deduplicated dataset saved to 'deduplicated_dataset.csv'.\")\n"
   ]
  },
  {
   "cell_type": "code",
   "execution_count": null,
   "id": "90936537",
   "metadata": {},
   "outputs": [],
   "source": []
  }
 ],
 "metadata": {
  "kernelspec": {
   "display_name": "Python 3 (ipykernel)",
   "language": "python",
   "name": "python3"
  },
  "language_info": {
   "codemirror_mode": {
    "name": "ipython",
    "version": 3
   },
   "file_extension": ".py",
   "mimetype": "text/x-python",
   "name": "python",
   "nbconvert_exporter": "python",
   "pygments_lexer": "ipython3",
   "version": "3.10.9"
  }
 },
 "nbformat": 4,
 "nbformat_minor": 5
}
